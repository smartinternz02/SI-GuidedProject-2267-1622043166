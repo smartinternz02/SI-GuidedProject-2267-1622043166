{
 "cells": [
  {
   "cell_type": "code",
   "execution_count": 1,
   "metadata": {},
   "outputs": [
    {
     "name": "stdout",
     "output_type": "stream",
     "text": [
      "Requirement already satisfied: watson-machine-learning-client in c:\\users\\saiha\\anaconda3\\lib\\site-packages (1.0.391)\n",
      "Requirement already satisfied: ibm-cos-sdk in c:\\users\\saiha\\anaconda3\\lib\\site-packages (from watson-machine-learning-client) (2.7.0)\n",
      "Requirement already satisfied: certifi in c:\\users\\saiha\\anaconda3\\lib\\site-packages (from watson-machine-learning-client) (2020.12.5)\n",
      "Requirement already satisfied: tqdm in c:\\users\\saiha\\anaconda3\\lib\\site-packages (from watson-machine-learning-client) (4.32.1)\n",
      "Requirement already satisfied: urllib3 in c:\\users\\saiha\\anaconda3\\lib\\site-packages (from watson-machine-learning-client) (1.24.2)\n",
      "Requirement already satisfied: pandas in c:\\users\\saiha\\anaconda3\\lib\\site-packages (from watson-machine-learning-client) (0.24.2)\n",
      "Requirement already satisfied: boto3 in c:\\users\\saiha\\anaconda3\\lib\\site-packages (from watson-machine-learning-client) (1.17.84)\n",
      "Requirement already satisfied: requests in c:\\users\\saiha\\anaconda3\\lib\\site-packages (from watson-machine-learning-client) (2.25.1)\n",
      "Requirement already satisfied: tabulate in c:\\users\\saiha\\anaconda3\\lib\\site-packages (from watson-machine-learning-client) (0.8.9)\n",
      "Requirement already satisfied: lomond in c:\\users\\saiha\\anaconda3\\lib\\site-packages (from watson-machine-learning-client) (0.3.3)\n",
      "Requirement already satisfied: jmespath<1.0.0,>=0.7.1 in c:\\users\\saiha\\anaconda3\\lib\\site-packages (from ibm-cos-sdk->watson-machine-learning-client) (0.10.0)\n",
      "Requirement already satisfied: ibm-cos-sdk-core==2.7.0 in c:\\users\\saiha\\anaconda3\\lib\\site-packages (from ibm-cos-sdk->watson-machine-learning-client) (2.7.0)\n",
      "Requirement already satisfied: ibm-cos-sdk-s3transfer==2.7.0 in c:\\users\\saiha\\anaconda3\\lib\\site-packages (from ibm-cos-sdk->watson-machine-learning-client) (2.7.0)\n",
      "Requirement already satisfied: pytz>=2011k in c:\\users\\saiha\\anaconda3\\lib\\site-packages (from pandas->watson-machine-learning-client) (2019.1)\n",
      "Requirement already satisfied: python-dateutil>=2.5.0 in c:\\users\\saiha\\anaconda3\\lib\\site-packages (from pandas->watson-machine-learning-client) (2.8.0)\n",
      "Requirement already satisfied: numpy>=1.12.0 in c:\\users\\saiha\\anaconda3\\lib\\site-packages (from pandas->watson-machine-learning-client) (1.19.5)\n",
      "Requirement already satisfied: botocore<1.21.0,>=1.20.84 in c:\\users\\saiha\\anaconda3\\lib\\site-packages (from boto3->watson-machine-learning-client) (1.20.84)\n",
      "Requirement already satisfied: s3transfer<0.5.0,>=0.4.0 in c:\\users\\saiha\\anaconda3\\lib\\site-packages (from boto3->watson-machine-learning-client) (0.4.2)\n",
      "Requirement already satisfied: idna<3,>=2.5 in c:\\users\\saiha\\anaconda3\\lib\\site-packages (from requests->watson-machine-learning-client) (2.8)\n",
      "Requirement already satisfied: chardet<5,>=3.0.2 in c:\\users\\saiha\\anaconda3\\lib\\site-packages (from requests->watson-machine-learning-client) (3.0.4)\n",
      "Requirement already satisfied: six>=1.10.0 in c:\\users\\saiha\\anaconda3\\lib\\site-packages (from lomond->watson-machine-learning-client) (1.15.0)\n",
      "Requirement already satisfied: docutils<0.16,>=0.10 in c:\\users\\saiha\\anaconda3\\lib\\site-packages (from ibm-cos-sdk-core==2.7.0->ibm-cos-sdk->watson-machine-learning-client) (0.14)\n"
     ]
    }
   ],
   "source": [
    "!pip install watson-machine-learning-client"
   ]
  },
  {
   "cell_type": "code",
   "execution_count": 2,
   "metadata": {},
   "outputs": [
    {
     "name": "stderr",
     "output_type": "stream",
     "text": [
      "C:\\Users\\saiha\\Anaconda3\\lib\\site-packages\\sklearn\\externals\\joblib\\__init__.py:15: DeprecationWarning: sklearn.externals.joblib is deprecated in 0.21 and will be removed in 0.23. Please import this functionality directly from joblib, which can be installed with: pip install joblib. If this warning is raised when loading pickled models, you may need to re-serialize those models with scikit-learn 0.21+.\n",
      "  warnings.warn(msg, category=DeprecationWarning)\n"
     ]
    }
   ],
   "source": [
    "from ibm_watson_machine_learning import APIClient\n",
    "wml_credentials = {\n",
    "                   \"url\": \"https://us-south.ml.cloud.ibm.com\",\n",
    "                   \"apikey\":\"uuz-__iOJX8ZyDzkTA19B0qIzks-7_FxN728ueR1Y0ou\"\n",
    "                  }\n",
    "\n",
    "client = APIClient(wml_credentials)"
   ]
  },
  {
   "cell_type": "code",
   "execution_count": 3,
   "metadata": {},
   "outputs": [],
   "source": [
    "def guid_from_space_name(client, space_name):\n",
    "    space = client.spaces.get_details()\n",
    "    #print(space)\n",
    "    return(next(item for item in space['resources'] if item['entity'][\"name\"] == space_name)['metadata']['id'])"
   ]
  },
  {
   "cell_type": "code",
   "execution_count": 4,
   "metadata": {},
   "outputs": [
    {
     "name": "stdout",
     "output_type": "stream",
     "text": [
      "Space UID = 05f9ac7a-34b0-4541-8253-46c85fbdc059\n"
     ]
    }
   ],
   "source": [
    "space_uid = guid_from_space_name(client, 'ForestFireDetection')\n",
    "print(\"Space UID = \"+space_uid)"
   ]
  },
  {
   "cell_type": "code",
   "execution_count": 5,
   "metadata": {},
   "outputs": [
    {
     "data": {
      "text/plain": [
       "'SUCCESS'"
      ]
     },
     "execution_count": 5,
     "metadata": {},
     "output_type": "execute_result"
    }
   ],
   "source": [
    "client.set.default_space(space_uid)"
   ]
  },
  {
   "cell_type": "code",
   "execution_count": 6,
   "metadata": {},
   "outputs": [
    {
     "name": "stdout",
     "output_type": "stream",
     "text": [
      "Successfully saved model content to file: 'ibmforestmodel1.tar.gz'\n"
     ]
    },
    {
     "data": {
      "text/plain": [
       "'C:\\\\Geethanjali externship\\\\Untitled Folder/ibmforestmodel1.tar.gz'"
      ]
     },
     "execution_count": 6,
     "metadata": {},
     "output_type": "execute_result"
    }
   ],
   "source": [
    "client.repository.download(\"ee257cc5-4517-444f-9356-465ca29370b9\",'ibmforestmodel1.tar.gz')\n",
    "#my_model.tar.gz"
   ]
  },
  {
   "cell_type": "code",
   "execution_count": null,
   "metadata": {},
   "outputs": [],
   "source": []
  },
  {
   "cell_type": "code",
   "execution_count": null,
   "metadata": {},
   "outputs": [],
   "source": []
  },
  {
   "cell_type": "code",
   "execution_count": null,
   "metadata": {},
   "outputs": [],
   "source": []
  },
  {
   "cell_type": "code",
   "execution_count": null,
   "metadata": {},
   "outputs": [],
   "source": []
  }
 ],
 "metadata": {
  "kernelspec": {
   "display_name": "Python 3",
   "language": "python",
   "name": "python3"
  },
  "language_info": {
   "codemirror_mode": {
    "name": "ipython",
    "version": 3
   },
   "file_extension": ".py",
   "mimetype": "text/x-python",
   "name": "python",
   "nbconvert_exporter": "python",
   "pygments_lexer": "ipython3",
   "version": "3.7.3"
  }
 },
 "nbformat": 4,
 "nbformat_minor": 2
}
